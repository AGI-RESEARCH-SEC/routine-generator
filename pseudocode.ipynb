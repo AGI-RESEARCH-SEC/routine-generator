{
 "cells": [
  {
   "attachments": {},
   "cell_type": "markdown",
   "metadata": {},
   "source": [
    "## **Pseudo Code : Mannual**\n",
    "```\n",
    "list teachers\n",
    "list batches\n",
    "for d in day:\n",
    "    for time in every_five_minutes:\n",
    "        list available batches at that time\n",
    "        for batch in available_batches:\n",
    "            list available teachers for 'batch' at 'time'\n",
    "            if len(available_teachers) == 0:\n",
    "                continue\n",
    "            \n",
    "            for teacher in available_teachers:\n",
    "                if teacher is available:\n",
    "                    'n_minutes' = [50 or 100 or 150] based on teacher's availability\n",
    "                    assign 'teacher' to 'batch' at 'time' for 'n_minutes'\n",
    "                    break\n",
    "```\n",
    "\n",
    "## **Pseudo Code : Genetic Algorithm**\n",
    "* **Gene:**\n",
    "    - teacher\n",
    "    - subject (subject has batch)\n",
    "    - day_time\n",
    "    - start_time\n",
    "    - duration\n",
    "   \n",
    "\n",
    "```\n",
    "def fitness_function():\n",
    "    * idle teachers: -ve\n",
    "    * idle students: -ve\n",
    "\n",
    "    - teachers availability\n",
    "    - teacher collision\n",
    "    - student collision\n",
    "    - teachers gap between classes = 'n' minutes\n",
    "    - students gap between classes = 'm' minutes\n",
    "    - duration of class = 'p' minutes :: p is preferred by subject and teachers availability\n",
    "    - number of classes per day = 'n'\n",
    "    - number of classes per week = 'm'\n",
    "    - even distribution of classes per week\n",
    "\n",
    "``` "
   ]
  },
  {
   "cell_type": "code",
   "execution_count": 1,
   "metadata": {},
   "outputs": [
    {
     "name": "stdout",
     "output_type": "stream",
     "text": [
      "start : 360, stop: 1080, duration: 5\n",
      "06:00 - 06:05\n"
     ]
    },
    {
     "ename": "KeyError",
     "evalue": "<classes.Students object at 0x7fea8c14bd50>",
     "output_type": "error",
     "traceback": [
      "\u001b[0;31m---------------------------------------------------------------------------\u001b[0m",
      "\u001b[0;31mKeyError\u001b[0m                                  Traceback (most recent call last)",
      "Cell \u001b[0;32mIn[1], line 8\u001b[0m\n\u001b[1;32m      6\u001b[0m \u001b[39mprint\u001b[39m(time)\n\u001b[1;32m      7\u001b[0m \u001b[39m# available_batchs = ClassRoom.get_available_batchs(all_teachers, all_subjects, time, Routine)\u001b[39;00m\n\u001b[0;32m----> 8\u001b[0m available_subjects \u001b[39m=\u001b[39m ClassRoom\u001b[39m.\u001b[39;49mget_available_subjects(all_subjects, time, Routine)\n\u001b[1;32m      9\u001b[0m \u001b[39mfor\u001b[39;00m subject \u001b[39min\u001b[39;00m available_subjects:\n\u001b[1;32m     10\u001b[0m     available_teachers \u001b[39m=\u001b[39m ClassRoom\u001b[39m.\u001b[39mget_available_teachers(all_teachers, all_subjects, subject, time, Routine)\n",
      "File \u001b[0;32m/media/resources/programming/tools/scripts/routine_generator/classes.py:205\u001b[0m, in \u001b[0;36mClassRoom.get_available_subjects\u001b[0;34m(all_subjects, time, Routine)\u001b[0m\n\u001b[1;32m    201\u001b[0m \u001b[39mif\u001b[39;00m subject\u001b[39m.\u001b[39mtime_left \u001b[39m>\u001b[39m \u001b[39m0\u001b[39m:\n\u001b[1;32m    202\u001b[0m     \n\u001b[1;32m    203\u001b[0m     \u001b[39m# add subject to routine and check validity\u001b[39;00m\n\u001b[1;32m    204\u001b[0m     routine_second_copy \u001b[39m=\u001b[39m deepcopy(routine_copy)\n\u001b[0;32m--> 205\u001b[0m     routine_second_copy[subject\u001b[39m.\u001b[39;49mstudents]\u001b[39m.\u001b[39mappend(ClassRoom(subject, time))\n\u001b[1;32m    206\u001b[0m     is_valid, msg \u001b[39m=\u001b[39m ClassRoom\u001b[39m.\u001b[39mis_valid(routine_second_copy)\n\u001b[1;32m    208\u001b[0m     \u001b[39mif\u001b[39;00m is_valid:\n",
      "\u001b[0;31mKeyError\u001b[0m: <classes.Students object at 0x7fea8c14bd50>"
     ]
    }
   ],
   "source": [
    "from classes import ClassRoom, TimeRange, ClassRoomRoutine\n",
    "MIN_DURATION_PER_PEROID, rooms, all_subjects, all_teachers, COLLEGE_HOURS = ClassRoom.get_inputs().values()\n",
    "COLLEGE_HOURS\n",
    "Routine = ClassRoomRoutine()\n",
    "for time in TimeRange.segment_time(COLLEGE_HOURS, '5'):\n",
    "    print(time)\n",
    "    # available_batchs = ClassRoom.get_available_batchs(all_teachers, all_subjects, time, Routine)\n",
    "    available_subjects = ClassRoom.get_available_subjects(all_subjects, time, Routine)\n",
    "    for subject in available_subjects:\n",
    "        available_teachers = ClassRoom.get_available_teachers(all_teachers, all_subjects, subject, time, Routine)\n",
    "        \n",
    "        if len(available_teachers) == 0:\n",
    "            continue    # if no teacher is available, skip to next batch\n",
    "\n",
    "        for teacher in available_teachers:\n",
    "            class_room = ClassRoom(teacher, subject, time+'50')\n",
    "            Routine.add_class(class_room)\n",
    "            print(class_room)\n",
    "            break\n",
    "        \n",
    "\n",
    "\n",
    "\n",
    "\n",
    "# list teachers\n",
    "# list batches\n",
    "# for d in day:\n",
    "#     for time in every_five_minutes:\n",
    "#         list available batches at that time\n",
    "#         for batch in available_batches:\n",
    "#             list available teachers for 'batch' at 'time'\n",
    "#             if len(available_teachers) == 0:\n",
    "#                 continue\n",
    "            \n",
    "#             for teacher in available_teachers:\n",
    "#                 if teacher is available:\n",
    "#                     'n_minutes' = [50 or 100 or 150] based on teacher's availability\n",
    "#                     assign 'teacher' to 'batch' at 'time' for 'n_minutes'\n",
    "#                     break"
   ]
  },
  {
   "cell_type": "code",
   "execution_count": null,
   "metadata": {},
   "outputs": [],
   "source": []
  }
 ],
 "metadata": {
  "kernelspec": {
   "display_name": "Python 3",
   "language": "python",
   "name": "python3"
  },
  "language_info": {
   "codemirror_mode": {
    "name": "ipython",
    "version": 3
   },
   "file_extension": ".py",
   "mimetype": "text/x-python",
   "name": "python",
   "nbconvert_exporter": "python",
   "pygments_lexer": "ipython3",
   "version": "3.11.3"
  },
  "orig_nbformat": 4
 },
 "nbformat": 4,
 "nbformat_minor": 2
}
