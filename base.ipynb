{
 "cells": [
  {
   "attachments": {},
   "cell_type": "markdown",
   "metadata": {},
   "source": []
  },
  {
   "cell_type": "code",
   "execution_count": null,
   "metadata": {
    "vscode": {
     "languageId": "plaintext"
    }
   },
   "outputs": [],
   "source": [
    "def is_valid(routine):\n",
    "    '''\n",
    "        routine is routine for one day for one class\n",
    "        routine = [{\"time\": Time, \"subject\": Subject, \"teacher\": teacher, \"students\": Students}, {\"time\": Time, ...}, ...]\n",
    "    '''\n",
    "    is_valid = 1\n",
    "    for slot in routine:\n",
    "        if not slot['time'].lies_within(slot['teacher'].available_time):\n",
    "            # validity for teachers time\n",
    "            return False\n",
    "        \n",
    "        if not slot['time'].lies_within(slot['students'].available_time):\n",
    "            # validity for students time\n",
    "            return False\n",
    "\n",
    "        if not slot['time'].lies_within(slot['subject'].available_time):\n",
    "            # validity for subjects time\n",
    "            return False"
   ]
  },
  {
   "cell_type": "code",
   "execution_count": null,
   "metadata": {
    "vscode": {
     "languageId": "plaintext"
    }
   },
   "outputs": [],
   "source": [
    "class Time:\n",
    "    '''\n",
    "        Time is a range of time\n",
    "        functions:\n",
    "            substract\n",
    "            time1.contains(time2)\n",
    "    '''\n",
    "    start_time = 0\n",
    "    end_time = 0\n",
    "\n",
    "    def __init__(self, start_time, end_time):\n",
    "        self.start_time = start_time\n",
    "        self.end_time = end_time\n",
    "    \n",
    "    def contains(self, time1):\n",
    "        # check if time1 lies within self\n",
    "        \n",
    "        if self.start_time <= time1.start_time and self.end_time >= time1.end_time:\n",
    "            return True\n",
    "        return False\n",
    "\n",
    "\n",
    "\n",
    "class Teacher:\n",
    "    available_time = Time\n",
    "    preferred_time = Time\n",
    "    time_left = Time        # Time allocated based on syllabus they will cover\n",
    "\n",
    "    def __init__(self, name):\n",
    "        self.name = name\n",
    "\n",
    "\n",
    "\n",
    "class Students:\n",
    "    available_time = Time       # \n",
    "    preferred_time = Time       #\n",
    "\n",
    "    def __init__(self, batch='076BEI'):\n",
    "        self.batch = batch      # Batch of the students\n",
    "\n",
    "class Subject(Teacher, Students):\n",
    "    '''\n",
    "        Subject interits: Teacher and Students\n",
    "    '''\n",
    "    available_time = Time   # because elective subjects are conducted in morning\n",
    "    time_left = Time        # Time allocated by syllabus \n",
    "    \n",
    "    def __init__(self, name):\n",
    "        super().__init__(self, name)\n"
   ]
  },
  {
   "attachments": {},
   "cell_type": "markdown",
   "metadata": {},
   "source": [
    "# Todo:\n",
    "    * check colliding routine for same teacher for multiple classes\n",
    "    * fixed number of classes for students and teachers for "
   ]
  }
 ],
 "metadata": {
  "language_info": {
   "name": "python"
  },
  "orig_nbformat": 4
 },
 "nbformat": 4,
 "nbformat_minor": 2
}
