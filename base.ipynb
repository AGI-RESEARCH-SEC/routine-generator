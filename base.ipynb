{
 "cells": [
  {
   "attachments": {},
   "cell_type": "markdown",
   "metadata": {},
   "source": []
  },
  {
   "cell_type": "code",
   "execution_count": null,
   "metadata": {},
   "outputs": [],
   "source": [
    "def is_valid(routine):\n",
    "    '''\n",
    "        routine is routine for one day for one class\n",
    "        routine = [{\"time\": Time, \"subject\": Subject, \"teacher\": teacher, \"students\": Students}, {\"time\": Time, ...}, ...]\n",
    "    '''\n",
    "    is_valid = 1\n",
    "    for slot in routine:\n",
    "        if not slot['time'].lies_within(slot['teacher'].available_time):\n",
    "            # validity for teachers time\n",
    "            return False\n",
    "        \n",
    "        if not slot['time'].lies_within(slot['students'].available_time):\n",
    "            # validity for students time\n",
    "            return False\n",
    "\n",
    "        if not slot['time'].lies_within(slot['subject'].available_time):\n",
    "            # validity for subjects time\n",
    "            return False"
   ]
  },
  {
   "attachments": {},
   "cell_type": "markdown",
   "metadata": {},
   "source": [
    "## ***Class Definations***"
   ]
  },
  {
   "cell_type": "code",
   "execution_count": 13,
   "metadata": {},
   "outputs": [],
   "source": [
    "from copy import deepcopy, copy\n",
    "MIN_DURATION_PER_PEROID = 50    # 50 minutes per period\n",
    "\n",
    "\n",
    "class Time:\n",
    "    '''\n",
    "        start_time is time in minutes (to simplify time calculations)\n",
    "        example: 6:10 o clock = (6*60 minutes) + (10 minutes)\n",
    "\n",
    "        functions:\n",
    "            substract\n",
    "            time1.contains(time2)\n",
    "    '''\n",
    "\n",
    "    def __init__(self, start_time, stop_time):\n",
    "        if type(start_time) == int:\n",
    "            self.start_time = start_time\n",
    "        else:\n",
    "            self.start_time = int(start_time.split(':')[0]) * 60 + int(start_time.split(':')[1])\n",
    "        if type(stop_time) == int:\n",
    "            self.stop_time = stop_time\n",
    "        else:\n",
    "            self.stop_time = int(stop_time.split(':')[0]) * 60 + int(stop_time.split(':')[1])\n",
    "    \n",
    "    def contains(self, time1):\n",
    "        # check if time1 lies within self\n",
    "        \n",
    "        if self.start_time <= time1.start_time and self.stop_time >= time1.stop_time:\n",
    "            return True\n",
    "        return False\n",
    "    \n",
    "    def __str__(self) -> str:\n",
    "        return f'{self.start_time//60:02d}:{self.start_time%60:02d} - {self.stop_time//60:02d}:{self.stop_time%60:02d}'\n",
    "    \n",
    "    def __copy__(self):\n",
    "        return Time(self.start_time, self.stop_time)\n",
    "\n",
    "    def __deepcopy__(self, memo):\n",
    "        return Time(deepcopy(self.start_time, memo), deepcopy(self.stop_time, memo))\n",
    "\n",
    "class Students:\n",
    "    # available_time = Time       # \n",
    "    # preferred_time = Time       #\n",
    "\n",
    "    def __init__(self, batch='076BEI', room='000'):\n",
    "        self.batch = batch      # Batch of the students\n",
    "        self.room = room\n",
    "\n",
    "class Subject:\n",
    "    '''\n",
    "        Subject has: Teacher, Students, time_left\n",
    "\n",
    "        time_left (hrs.) is the time required to complete the syllabus\n",
    "    '''\n",
    "    \n",
    "    def __init__(self, subject_name, students, time_left):\n",
    "        self.subject_name = subject_name\n",
    "        self.students = students\n",
    "        self.time_left = time_left\n",
    "\n",
    "class Teacher:\n",
    "    '''\n",
    "    \n",
    "    available_time = Time\n",
    "    feasible_time = Time\n",
    "    subjects = []\n",
    "    \n",
    "    '''\n",
    "\n",
    "    def __init__(self, teachers_name, subjects, feasible_time):\n",
    "        self.name = teachers_name\n",
    "        self.subjects = subjects\n",
    "        self.feasible_time  = feasible_time\n",
    "\n",
    "class ClassRoom:\n",
    "    '''\n",
    "        ClassRoom has: Students, Teacher, Subject, Time, RoomNumber\n",
    "    '''\n",
    "    def __init__(self, teacher, subject, time, room_number='000'):\n",
    "        # self.students = students\n",
    "        self.teacher = teacher\n",
    "        self.subject = subject\n",
    "        self.time = time\n",
    "        self.room_number = room_number"
   ]
  },
  {
   "attachments": {},
   "cell_type": "markdown",
   "metadata": {},
   "source": [
    "## ***Possible Classrooms***\n",
    "* Possible list of classrooms for all teacher assuming teachers time is the limiting factor"
   ]
  },
  {
   "cell_type": "code",
   "execution_count": 17,
   "metadata": {},
   "outputs": [],
   "source": [
    "# inputs:\n",
    "rooms = ['102', '103']\n",
    "subjects = [Subject('AI', Students('bei076'), time_left=10), Subject('Data Mining', Students('bei076'), time_left=10)]\n",
    "teachers = [Teacher('teacher1', [subjects[0]], Time('6:00', '10:00')), Teacher('teacher2', [subjects[1]], Time('6:00', '10:00'))]\n",
    "college_hours = Time('6:00', '18:00')"
   ]
  },
  {
   "attachments": {},
   "cell_type": "markdown",
   "metadata": {},
   "source": [
    "## ***ALL POSSIBLE CLASSROOMS***"
   ]
  },
  {
   "cell_type": "code",
   "execution_count": 18,
   "metadata": {},
   "outputs": [
    {
     "name": "stdout",
     "output_type": "stream",
     "text": [
      "start : 360, stop: 600, duration: 50\n",
      "start : 360, stop: 600, duration: 50\n",
      "time_slots: ['06:00 - 06:50', '06:50 - 07:40', '07:40 - 08:30', '08:30 - 09:20', '09:20 - 10:10']\n",
      "start : 360, stop: 600, duration: 50\n",
      "start : 360, stop: 600, duration: 50\n",
      "time_slots: ['06:00 - 06:50', '06:50 - 07:40', '07:40 - 08:30', '08:30 - 09:20', '09:20 - 10:10']\n",
      "2\n"
     ]
    }
   ],
   "source": [
    "from copy import deepcopy\n",
    "\n",
    "# pseudocode\n",
    "def segment_time(time_range, duration_of_each_segment):\n",
    "    print(f'start : {time_range.start_time}, stop: {time_range.stop_time}, duration: {duration_of_each_segment}')\n",
    "    time_slots = []\n",
    "    while time_range.start_time < time_range.stop_time:\n",
    "        time_slots.append(Time(time_range.start_time, time_range.start_time + duration_of_each_segment))\n",
    "        time_range.start_time += duration_of_each_segment\n",
    "    # print(time_slots)\n",
    "    return time_slots\n",
    "\n",
    "# time_slots = segment_time(Time('6:10', '10:15'), 50)\n",
    "# print(f'time_slots: {[str(time) for time in time_slots]}')\n",
    "\n",
    "classrooms = []\n",
    "for teacher in teachers:\n",
    "    time_slots = segment_time(deepcopy(teacher.feasible_time), MIN_DURATION_PER_PEROID)\n",
    "    for subject in teacher.subjects:\n",
    "        classrooms.append(ClassRoom(teacher, subject, time_slots, rooms.pop(0)))\n",
    "    print(f'time_slots: {[str(time) for time in segment_time(teacher.feasible_time, MIN_DURATION_PER_PEROID)]}')\n",
    "\n",
    "# list of individual classes\n",
    "print(len(classrooms))\n"
   ]
  },
  {
   "attachments": {},
   "cell_type": "markdown",
   "metadata": {},
   "source": [
    "# TEST"
   ]
  },
  {
   "cell_type": "code",
   "execution_count": 121,
   "metadata": {},
   "outputs": [
    {
     "data": {
      "text/plain": [
       "610"
      ]
     },
     "execution_count": 121,
     "metadata": {},
     "output_type": "execute_result"
    }
   ],
   "source": [
    "# teachers[0].available_time.start_time\n",
    "# print('hi')\n",
    "# print(Time('6:00', '10:00').start_time)\n",
    "# print(str(Time(60,70)))\n",
    "# int(100/3)\n",
    "# get two digit answer of 10/2\n",
    "# f'{10/2:.2f}'   # '5.00'\n",
    "f\"{int(10 / 3):02d}\"    # '03'\n",
    "# print(f' start_time is: {Time('6:00', '10:00').start_time}')\n",
    "\n",
    "# MIN_DURATION_PER_PEROID\n",
    "# teachers[0].feasible_time.start_time\n",
    "# Time('6:00', '10:00').stop_time\n",
    "teachers[0].feasible_time.start_time"
   ]
  },
  {
   "attachments": {},
   "cell_type": "markdown",
   "metadata": {},
   "source": [
    "# Todo:\n",
    "    * check colliding routine for same teacher for multiple classes\n",
    "    * fixed number of classes for students and teachers for \n",
    "# Errors\n",
    "    * teachers[0].feasible_time is changing after running generating code. why?"
   ]
  }
 ],
 "metadata": {
  "kernelspec": {
   "display_name": "Python 3",
   "language": "python",
   "name": "python3"
  },
  "language_info": {
   "codemirror_mode": {
    "name": "ipython",
    "version": 3
   },
   "file_extension": ".py",
   "mimetype": "text/x-python",
   "name": "python",
   "nbconvert_exporter": "python",
   "pygments_lexer": "ipython3",
   "version": "3.10.10"
  },
  "orig_nbformat": 4
 },
 "nbformat": 4,
 "nbformat_minor": 2
}
